{
 "cells": [
  {
   "cell_type": "markdown",
   "metadata": {},
   "source": [
    "# Song Lyric Topic Modelling and Summarization\n",
    "Source: https://towardsdatascience.com/nlp-for-topic-modeling-summarization-of-legal-documents-8c89393b1534"
   ]
  },
  {
   "cell_type": "code",
   "execution_count": null,
   "metadata": {},
   "outputs": [],
   "source": [
    "import matplotlib.pyplot as plt\n",
    "import mglearn\n",
    "import numpy as np\n",
    "import pandas as pd\n",
    "import re\n",
    "\n",
    "\n",
    "from os import listdir, path\n",
    "from PIL import Image\n",
    "from sklearn.decomposition import LatentDirichletAllocation\n",
    "from sklearn.feature_extraction.stop_words import ENGLISH_STOP_WORDS\n",
    "from sklearn.feature_extraction.text import CountVectorizer,TfidfVectorizer\n",
    "from wordcloud import WordCloud,STOPWORDS\n",
    "\n",
    "%pylab\n",
    "%matplotlib inline"
   ]
  },
  {
   "cell_type": "markdown",
   "metadata": {},
   "source": [
    "## Training Parameters"
   ]
  },
  {
   "cell_type": "code",
   "execution_count": null,
   "metadata": {},
   "outputs": [],
   "source": [
    "paths = ['data/lyrics/2002',\n",
    "         'data/lyrics/2003',\n",
    "         'data/lyrics/2004',\n",
    "         'data/lyrics/2005',\n",
    "         #'data/lyrics/2006',\n",
    "         'data/lyrics/2007',\n",
    "         'data/lyrics/2008',\n",
    "         'data/lyrics/2009',\n",
    "         'data/lyrics/2010',\n",
    "         'data/lyrics/2011',\n",
    "         'data/lyrics/2012',\n",
    "         'data/lyrics/2013',\n",
    "         'data/lyrics/2014',\n",
    "         'data/lyrics/2015',\n",
    "         'data/lyrics/2016',\n",
    "         'data/lyrics/2017']\n",
    "stop_chars = ['(', ')', '{', '}', '.', '\\'', ',', '-']\n",
    "stop_words = ['la', 'ah', 'da', 'ye', 'oh', 'ba', 'na', 'ooh', 'aah', 'dont', 'yeah' \n",
    "              ''', 'im', 'gonna', 'cause', 'know' ''']\n",
    "\n",
    "number_of_topics = 2\n",
    "number_of_top_words = 2\n",
    "number_of_top_sentences = 2\n",
    "\n",
    "word_cloud_max_words = 100\n",
    "word_cloud_mask_filename = 'word_cloud_mask.png'\n",
    "word_cloud_background_color = 'black'"
   ]
  },
  {
   "cell_type": "markdown",
   "metadata": {},
   "source": [
    "## Method Definitions"
   ]
  },
  {
   "cell_type": "code",
   "execution_count": null,
   "metadata": {},
   "outputs": [],
   "source": [
    "def getLyricData(path, stop_chars, stop_words, debug=False):\n",
    "    files = listdir(path)\n",
    "    if debug:\n",
    "        print(files, '\\n\\n')\n",
    "    \n",
    "    lyrics = None\n",
    "    for file in files:\n",
    "        with open(path + '/' + file, encoding='utf-8') as f:\n",
    "            if lyrics is None:\n",
    "                lyrics = f.read().splitlines()\n",
    "            else:\n",
    "                lyrics.extend(f.read().splitlines())\n",
    "                \n",
    "    if debug:\n",
    "        print(lyrics, '\\n\\n')\n",
    "\n",
    "    dubby = []\n",
    "    removeCharsRe = '[' + re.escape(''.join(stop_chars)) + ']'\n",
    "    for l in lyrics:\n",
    "        words = re.sub(removeCharsRe, '', l.replace(',', ', ').replace('-', '- ')).split()\n",
    "        valid_words = [w for w in words if w.lower() not in stop_words]\n",
    "        valid_lyric = ' '.join(valid_words)\n",
    "        dubby.append(valid_lyric)\n",
    "\n",
    "    if debug:\n",
    "        print(dubby, '\\n\\n')\n",
    "        \n",
    "    dubby = [d for d in dubby if d != '']\n",
    "    dubby = list(set(dubby)) # remove duplicates\n",
    "    return dubby"
   ]
  },
  {
   "cell_type": "code",
   "execution_count": null,
   "metadata": {},
   "outputs": [],
   "source": [
    "def runTopicModelling_LDA(inputData, number_of_topics):\n",
    "    vect=CountVectorizer(ngram_range=(1,1),stop_words='english')\n",
    "    dtm=vect.fit_transform(inputData)\n",
    "    \n",
    "    lda=LatentDirichletAllocation(n_components=number_of_topics)\n",
    "    lda_dtf=lda.fit_transform(dtm)\n",
    "    \n",
    "    sorting=np.argsort(lda.components_)[:,::-1]\n",
    "    feature_names=np.array(vect.get_feature_names())\n",
    "    \n",
    "    return lda_dtf, feature_names, sorting"
   ]
  },
  {
   "cell_type": "code",
   "execution_count": null,
   "metadata": {},
   "outputs": [],
   "source": [
    "def getTopicTopSentences(data, predictions, predictionIdx, sentencesCnt):\n",
    "    sentences = []\n",
    "    topic = np.argsort(predictions[:,predictionIdx])[::-1]\n",
    "    for t in topic[:sentencesCnt]:\n",
    "        sentences.append(\".\".join(data[t].split(\".\")[:2]))\n",
    "        \n",
    "    return sentences"
   ]
  },
  {
   "cell_type": "code",
   "execution_count": null,
   "metadata": {},
   "outputs": [],
   "source": [
    "def displayWordCloud(inputData, maskFileName, maxWords, backgroundColor):\n",
    "    text = ' '.join(inputData)\n",
    "    mask = np.array(Image.open(maskFileName))\n",
    "    stopwords = set(STOPWORDS)\n",
    "    \n",
    "    wc = WordCloud(background_color=backgroundColor, max_words=maxWords, mask=mask,stopwords=stopwords)\n",
    "    wc.generate(text)\n",
    "    \n",
    "    plt.figure(figsize=(16,13))\n",
    "    plt.imshow(wc, interpolation='bilinear')\n",
    "    plt.axis(\"off\")\n",
    "    plt.figure()\n",
    "    plt.axis(\"off\")\n",
    "    plt.show()"
   ]
  },
  {
   "cell_type": "markdown",
   "metadata": {},
   "source": [
    "## Execute Model"
   ]
  },
  {
   "cell_type": "code",
   "execution_count": null,
   "metadata": {
    "scrolled": false
   },
   "outputs": [],
   "source": [
    "for path in paths:\n",
    "    print('\\n\\nPATH:', path)\n",
    "    print('==================================================')\n",
    "    lyricData = getLyricData(path, stop_chars, stop_words)\n",
    "\n",
    "    predictions, feature_names, sorting = runTopicModelling_LDA(lyricData, number_of_topics)\n",
    "\n",
    "    print('')\n",
    "    mglearn.tools.print_topics(topics=range(number_of_topics), feature_names=feature_names,\n",
    "                               sorting=sorting, topics_per_chunk=number_of_topics, \n",
    "                               n_words=number_of_top_words)\n",
    "\n",
    "    for i in range(number_of_topics):\n",
    "        topSentences = getTopicTopSentences(lyricData, predictions, i, number_of_top_sentences)\n",
    "        print('Topic', i)\n",
    "        for s in topSentences:\n",
    "            print('    ', s)\n",
    "        print('')\n",
    "    \n",
    "    displayWordCloud(lyricData, word_cloud_mask_filename, word_cloud_max_words, word_cloud_background_color)"
   ]
  }
 ],
 "metadata": {
  "kernelspec": {
   "display_name": "Python 3",
   "language": "python",
   "name": "python3"
  },
  "language_info": {
   "codemirror_mode": {
    "name": "ipython",
    "version": 3
   },
   "file_extension": ".py",
   "mimetype": "text/x-python",
   "name": "python",
   "nbconvert_exporter": "python",
   "pygments_lexer": "ipython3",
   "version": "3.6.5"
  }
 },
 "nbformat": 4,
 "nbformat_minor": 2
}
